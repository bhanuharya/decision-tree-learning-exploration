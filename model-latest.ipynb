{
 "cells": [
  {
   "cell_type": "markdown",
   "id": "64750966",
   "metadata": {},
   "source": [
    "# Dataset"
   ]
  },
  {
   "cell_type": "code",
   "execution_count": 155,
   "id": "a80ca871",
   "metadata": {},
   "outputs": [],
   "source": [
    "import pandas as pd\n",
    "import scipy as sp\n",
    "import numpy as np\n",
    "from sklearn.datasets import load_breast_cancer\n",
    "from sklearn.model_selection import train_test_split\n",
    "from sklearn import svm\n",
    "import six\n",
    "import sys\n",
    "sys.modules['sklearn.externals.six'] = six\n",
    "import mlrose\n",
    "import matplotlib as plt"
   ]
  },
  {
   "cell_type": "code",
   "execution_count": 156,
   "id": "0fd408d5",
   "metadata": {},
   "outputs": [],
   "source": [
    "from sklearn.datasets import load_breast_cancer\n",
    "\n",
    "#Preparing data\n",
    "breast_cancer = load_breast_cancer()\n",
    "data_play_tennis  = pd.read_csv('play_tennis.csv')\n",
    "\n",
    "#convert breast cancer data to pandas dataframe\n",
    "data_breast_cancer = pd.DataFrame(breast_cancer['data'], columns=breast_cancer['feature_names'])\n",
    "data_breast_cancer['target'] = breast_cancer['target']"
   ]
  },
  {
   "cell_type": "code",
   "execution_count": 157,
   "id": "f557017c",
   "metadata": {},
   "outputs": [
    {
     "data": {
      "text/html": [
       "<div>\n",
       "<style scoped>\n",
       "    .dataframe tbody tr th:only-of-type {\n",
       "        vertical-align: middle;\n",
       "    }\n",
       "\n",
       "    .dataframe tbody tr th {\n",
       "        vertical-align: top;\n",
       "    }\n",
       "\n",
       "    .dataframe thead th {\n",
       "        text-align: right;\n",
       "    }\n",
       "</style>\n",
       "<table border=\"1\" class=\"dataframe\">\n",
       "  <thead>\n",
       "    <tr style=\"text-align: right;\">\n",
       "      <th></th>\n",
       "      <th>mean radius</th>\n",
       "      <th>mean texture</th>\n",
       "      <th>mean perimeter</th>\n",
       "      <th>mean area</th>\n",
       "      <th>mean smoothness</th>\n",
       "      <th>mean compactness</th>\n",
       "      <th>mean concavity</th>\n",
       "      <th>mean concave points</th>\n",
       "      <th>mean symmetry</th>\n",
       "      <th>mean fractal dimension</th>\n",
       "      <th>...</th>\n",
       "      <th>worst texture</th>\n",
       "      <th>worst perimeter</th>\n",
       "      <th>worst area</th>\n",
       "      <th>worst smoothness</th>\n",
       "      <th>worst compactness</th>\n",
       "      <th>worst concavity</th>\n",
       "      <th>worst concave points</th>\n",
       "      <th>worst symmetry</th>\n",
       "      <th>worst fractal dimension</th>\n",
       "      <th>target</th>\n",
       "    </tr>\n",
       "  </thead>\n",
       "  <tbody>\n",
       "    <tr>\n",
       "      <th>0</th>\n",
       "      <td>17.99</td>\n",
       "      <td>10.38</td>\n",
       "      <td>122.80</td>\n",
       "      <td>1001.0</td>\n",
       "      <td>0.11840</td>\n",
       "      <td>0.27760</td>\n",
       "      <td>0.3001</td>\n",
       "      <td>0.14710</td>\n",
       "      <td>0.2419</td>\n",
       "      <td>0.07871</td>\n",
       "      <td>...</td>\n",
       "      <td>17.33</td>\n",
       "      <td>184.60</td>\n",
       "      <td>2019.0</td>\n",
       "      <td>0.1622</td>\n",
       "      <td>0.6656</td>\n",
       "      <td>0.7119</td>\n",
       "      <td>0.2654</td>\n",
       "      <td>0.4601</td>\n",
       "      <td>0.11890</td>\n",
       "      <td>0</td>\n",
       "    </tr>\n",
       "    <tr>\n",
       "      <th>1</th>\n",
       "      <td>20.57</td>\n",
       "      <td>17.77</td>\n",
       "      <td>132.90</td>\n",
       "      <td>1326.0</td>\n",
       "      <td>0.08474</td>\n",
       "      <td>0.07864</td>\n",
       "      <td>0.0869</td>\n",
       "      <td>0.07017</td>\n",
       "      <td>0.1812</td>\n",
       "      <td>0.05667</td>\n",
       "      <td>...</td>\n",
       "      <td>23.41</td>\n",
       "      <td>158.80</td>\n",
       "      <td>1956.0</td>\n",
       "      <td>0.1238</td>\n",
       "      <td>0.1866</td>\n",
       "      <td>0.2416</td>\n",
       "      <td>0.1860</td>\n",
       "      <td>0.2750</td>\n",
       "      <td>0.08902</td>\n",
       "      <td>0</td>\n",
       "    </tr>\n",
       "    <tr>\n",
       "      <th>2</th>\n",
       "      <td>19.69</td>\n",
       "      <td>21.25</td>\n",
       "      <td>130.00</td>\n",
       "      <td>1203.0</td>\n",
       "      <td>0.10960</td>\n",
       "      <td>0.15990</td>\n",
       "      <td>0.1974</td>\n",
       "      <td>0.12790</td>\n",
       "      <td>0.2069</td>\n",
       "      <td>0.05999</td>\n",
       "      <td>...</td>\n",
       "      <td>25.53</td>\n",
       "      <td>152.50</td>\n",
       "      <td>1709.0</td>\n",
       "      <td>0.1444</td>\n",
       "      <td>0.4245</td>\n",
       "      <td>0.4504</td>\n",
       "      <td>0.2430</td>\n",
       "      <td>0.3613</td>\n",
       "      <td>0.08758</td>\n",
       "      <td>0</td>\n",
       "    </tr>\n",
       "    <tr>\n",
       "      <th>3</th>\n",
       "      <td>11.42</td>\n",
       "      <td>20.38</td>\n",
       "      <td>77.58</td>\n",
       "      <td>386.1</td>\n",
       "      <td>0.14250</td>\n",
       "      <td>0.28390</td>\n",
       "      <td>0.2414</td>\n",
       "      <td>0.10520</td>\n",
       "      <td>0.2597</td>\n",
       "      <td>0.09744</td>\n",
       "      <td>...</td>\n",
       "      <td>26.50</td>\n",
       "      <td>98.87</td>\n",
       "      <td>567.7</td>\n",
       "      <td>0.2098</td>\n",
       "      <td>0.8663</td>\n",
       "      <td>0.6869</td>\n",
       "      <td>0.2575</td>\n",
       "      <td>0.6638</td>\n",
       "      <td>0.17300</td>\n",
       "      <td>0</td>\n",
       "    </tr>\n",
       "    <tr>\n",
       "      <th>4</th>\n",
       "      <td>20.29</td>\n",
       "      <td>14.34</td>\n",
       "      <td>135.10</td>\n",
       "      <td>1297.0</td>\n",
       "      <td>0.10030</td>\n",
       "      <td>0.13280</td>\n",
       "      <td>0.1980</td>\n",
       "      <td>0.10430</td>\n",
       "      <td>0.1809</td>\n",
       "      <td>0.05883</td>\n",
       "      <td>...</td>\n",
       "      <td>16.67</td>\n",
       "      <td>152.20</td>\n",
       "      <td>1575.0</td>\n",
       "      <td>0.1374</td>\n",
       "      <td>0.2050</td>\n",
       "      <td>0.4000</td>\n",
       "      <td>0.1625</td>\n",
       "      <td>0.2364</td>\n",
       "      <td>0.07678</td>\n",
       "      <td>0</td>\n",
       "    </tr>\n",
       "  </tbody>\n",
       "</table>\n",
       "<p>5 rows × 31 columns</p>\n",
       "</div>"
      ],
      "text/plain": [
       "   mean radius  mean texture  mean perimeter  mean area  mean smoothness  \\\n",
       "0        17.99         10.38          122.80     1001.0          0.11840   \n",
       "1        20.57         17.77          132.90     1326.0          0.08474   \n",
       "2        19.69         21.25          130.00     1203.0          0.10960   \n",
       "3        11.42         20.38           77.58      386.1          0.14250   \n",
       "4        20.29         14.34          135.10     1297.0          0.10030   \n",
       "\n",
       "   mean compactness  mean concavity  mean concave points  mean symmetry  \\\n",
       "0           0.27760          0.3001              0.14710         0.2419   \n",
       "1           0.07864          0.0869              0.07017         0.1812   \n",
       "2           0.15990          0.1974              0.12790         0.2069   \n",
       "3           0.28390          0.2414              0.10520         0.2597   \n",
       "4           0.13280          0.1980              0.10430         0.1809   \n",
       "\n",
       "   mean fractal dimension  ...  worst texture  worst perimeter  worst area  \\\n",
       "0                 0.07871  ...          17.33           184.60      2019.0   \n",
       "1                 0.05667  ...          23.41           158.80      1956.0   \n",
       "2                 0.05999  ...          25.53           152.50      1709.0   \n",
       "3                 0.09744  ...          26.50            98.87       567.7   \n",
       "4                 0.05883  ...          16.67           152.20      1575.0   \n",
       "\n",
       "   worst smoothness  worst compactness  worst concavity  worst concave points  \\\n",
       "0            0.1622             0.6656           0.7119                0.2654   \n",
       "1            0.1238             0.1866           0.2416                0.1860   \n",
       "2            0.1444             0.4245           0.4504                0.2430   \n",
       "3            0.2098             0.8663           0.6869                0.2575   \n",
       "4            0.1374             0.2050           0.4000                0.1625   \n",
       "\n",
       "   worst symmetry  worst fractal dimension  target  \n",
       "0          0.4601                  0.11890       0  \n",
       "1          0.2750                  0.08902       0  \n",
       "2          0.3613                  0.08758       0  \n",
       "3          0.6638                  0.17300       0  \n",
       "4          0.2364                  0.07678       0  \n",
       "\n",
       "[5 rows x 31 columns]"
      ]
     },
     "execution_count": 157,
     "metadata": {},
     "output_type": "execute_result"
    }
   ],
   "source": [
    "#Breast Cancer Data Head\n",
    "data_breast_cancer.head()\n"
   ]
  },
  {
   "cell_type": "code",
   "execution_count": 158,
   "id": "64096366",
   "metadata": {},
   "outputs": [
    {
     "data": {
      "text/html": [
       "<div>\n",
       "<style scoped>\n",
       "    .dataframe tbody tr th:only-of-type {\n",
       "        vertical-align: middle;\n",
       "    }\n",
       "\n",
       "    .dataframe tbody tr th {\n",
       "        vertical-align: top;\n",
       "    }\n",
       "\n",
       "    .dataframe thead th {\n",
       "        text-align: right;\n",
       "    }\n",
       "</style>\n",
       "<table border=\"1\" class=\"dataframe\">\n",
       "  <thead>\n",
       "    <tr style=\"text-align: right;\">\n",
       "      <th></th>\n",
       "      <th>outlook</th>\n",
       "      <th>temp</th>\n",
       "      <th>humidity</th>\n",
       "      <th>wind</th>\n",
       "      <th>play</th>\n",
       "    </tr>\n",
       "  </thead>\n",
       "  <tbody>\n",
       "    <tr>\n",
       "      <th>0</th>\n",
       "      <td>2</td>\n",
       "      <td>1</td>\n",
       "      <td>0</td>\n",
       "      <td>1</td>\n",
       "      <td>0</td>\n",
       "    </tr>\n",
       "    <tr>\n",
       "      <th>1</th>\n",
       "      <td>2</td>\n",
       "      <td>1</td>\n",
       "      <td>0</td>\n",
       "      <td>0</td>\n",
       "      <td>0</td>\n",
       "    </tr>\n",
       "    <tr>\n",
       "      <th>2</th>\n",
       "      <td>0</td>\n",
       "      <td>1</td>\n",
       "      <td>0</td>\n",
       "      <td>1</td>\n",
       "      <td>1</td>\n",
       "    </tr>\n",
       "    <tr>\n",
       "      <th>3</th>\n",
       "      <td>1</td>\n",
       "      <td>2</td>\n",
       "      <td>0</td>\n",
       "      <td>1</td>\n",
       "      <td>1</td>\n",
       "    </tr>\n",
       "    <tr>\n",
       "      <th>4</th>\n",
       "      <td>1</td>\n",
       "      <td>0</td>\n",
       "      <td>1</td>\n",
       "      <td>1</td>\n",
       "      <td>1</td>\n",
       "    </tr>\n",
       "  </tbody>\n",
       "</table>\n",
       "</div>"
      ],
      "text/plain": [
       "   outlook  temp  humidity  wind  play\n",
       "0        2     1         0     1     0\n",
       "1        2     1         0     0     0\n",
       "2        0     1         0     1     1\n",
       "3        1     2         0     1     1\n",
       "4        1     0         1     1     1"
      ]
     },
     "execution_count": 158,
     "metadata": {},
     "output_type": "execute_result"
    }
   ],
   "source": [
    "# Play Tennis Data Head\n",
    "from sklearn.preprocessing import LabelEncoder\n",
    "Le = LabelEncoder()\n",
    "\n",
    "data_play_tennis = data_play_tennis.drop(columns=['day'])\n",
    "data_play_tennis['outlook'] = Le.fit_transform(data_play_tennis['outlook'])\n",
    "data_play_tennis['temp'] = Le.fit_transform(data_play_tennis['temp'])\n",
    "data_play_tennis['humidity'] = Le.fit_transform(data_play_tennis['humidity'])\n",
    "data_play_tennis['wind'] = Le.fit_transform(data_play_tennis['wind'])\n",
    "data_play_tennis['play'] = Le.fit_transform(data_play_tennis['play'])\n",
    "data_play_tennis.head()"
   ]
  },
  {
   "cell_type": "markdown",
   "id": "85f0dd3c",
   "metadata": {},
   "source": [
    "# Split to Training and Test Data"
   ]
  },
  {
   "cell_type": "code",
   "execution_count": 159,
   "id": "fef9a4aa",
   "metadata": {},
   "outputs": [
    {
     "name": "stdout",
     "output_type": "stream",
     "text": [
      "shape of original dataset : (569, 31)\n",
      "shape of input - training set (455, 30)\n",
      "shape of output - training set (455,)\n",
      "shape of input - testing set (114, 30)\n",
      "shape of output - testing set (114,)\n"
     ]
    }
   ],
   "source": [
    "#Split breast cancer to training and testing data\n",
    "y1 = data_breast_cancer.target\n",
    "x1 = data_breast_cancer.drop('target', axis = 1)\n",
    "\n",
    "x1_train,x1_test,y1_train,y1_test=train_test_split(x1,y1,test_size=0.2)\n",
    "\n",
    "print(\"shape of original dataset :\", data_breast_cancer.shape)\n",
    "print(\"shape of input - training set\", x1_train.shape)\n",
    "print(\"shape of output - training set\", y1_train.shape)\n",
    "print(\"shape of input - testing set\", x1_test.shape)\n",
    "print(\"shape of output - testing set\", y1_test.shape)"
   ]
  },
  {
   "cell_type": "code",
   "execution_count": 160,
   "id": "1976191f",
   "metadata": {},
   "outputs": [
    {
     "name": "stdout",
     "output_type": "stream",
     "text": [
      "shape of original dataset : (14, 5)\n",
      "shape of input - training set (11, 4)\n",
      "shape of output - training set (11,)\n",
      "shape of input - testing set (3, 4)\n",
      "shape of output - testing set (3,)\n"
     ]
    }
   ],
   "source": [
    "#Split play tennis to training and testing data\n",
    "y2 = data_play_tennis.play\n",
    "x2 = data_play_tennis.drop('play', axis = 1)\n",
    "\n",
    "x2_train,x2_test,y2_train,y2_test=train_test_split(x2,y2,test_size=0.2)\n",
    "\n",
    "print(\"shape of original dataset :\", data_play_tennis.shape)\n",
    "print(\"shape of input - training set\", x2_train.shape)\n",
    "print(\"shape of output - training set\", y2_train.shape)\n",
    "print(\"shape of input - testing set\", x2_test.shape)\n",
    "print(\"shape of output - testing set\", y2_test.shape)"
   ]
  },
  {
   "cell_type": "markdown",
   "id": "7820b27e",
   "metadata": {},
   "source": [
    "# Decision Tree Classifier"
   ]
  },
  {
   "cell_type": "markdown",
   "id": "d98ada66",
   "metadata": {},
   "source": [
    "## Breast Cancer"
   ]
  },
  {
   "cell_type": "code",
   "execution_count": 161,
   "id": "9e51dfee",
   "metadata": {},
   "outputs": [
    {
     "name": "stdout",
     "output_type": "stream",
     "text": [
      "Accuracy: 0.9210526315789473\n",
      "F1: 0.9323308270676692\n",
      "|--- worst radius <= 16.81\n",
      "|   |--- worst concave points <= 0.14\n",
      "|   |   |--- radius error <= 0.63\n",
      "|   |   |   |--- worst area <= 785.75\n",
      "|   |   |   |   |--- class: 1\n",
      "|   |   |   |--- worst area >  785.75\n",
      "|   |   |   |   |--- worst perimeter <= 102.70\n",
      "|   |   |   |   |   |--- class: 0\n",
      "|   |   |   |   |--- worst perimeter >  102.70\n",
      "|   |   |   |   |   |--- concave points error <= 0.02\n",
      "|   |   |   |   |   |   |--- class: 1\n",
      "|   |   |   |   |   |--- concave points error >  0.02\n",
      "|   |   |   |   |   |   |--- class: 0\n",
      "|   |   |--- radius error >  0.63\n",
      "|   |   |   |--- symmetry error <= 0.03\n",
      "|   |   |   |   |--- class: 0\n",
      "|   |   |   |--- symmetry error >  0.03\n",
      "|   |   |   |   |--- class: 1\n",
      "|   |--- worst concave points >  0.14\n",
      "|   |   |--- worst texture <= 25.67\n",
      "|   |   |   |--- worst area <= 810.30\n",
      "|   |   |   |   |--- mean concave points <= 0.08\n",
      "|   |   |   |   |   |--- class: 1\n",
      "|   |   |   |   |--- mean concave points >  0.08\n",
      "|   |   |   |   |   |--- class: 0\n",
      "|   |   |   |--- worst area >  810.30\n",
      "|   |   |   |   |--- class: 0\n",
      "|   |   |--- worst texture >  25.67\n",
      "|   |   |   |--- perimeter error <= 1.62\n",
      "|   |   |   |   |--- worst radius <= 15.51\n",
      "|   |   |   |   |   |--- class: 1\n",
      "|   |   |   |   |--- worst radius >  15.51\n",
      "|   |   |   |   |   |--- class: 0\n",
      "|   |   |   |--- perimeter error >  1.62\n",
      "|   |   |   |   |--- class: 0\n",
      "|--- worst radius >  16.81\n",
      "|   |--- mean texture <= 15.82\n",
      "|   |   |--- mean concave points <= 0.07\n",
      "|   |   |   |--- class: 1\n",
      "|   |   |--- mean concave points >  0.07\n",
      "|   |   |   |--- class: 0\n",
      "|   |--- mean texture >  15.82\n",
      "|   |   |--- worst concavity <= 0.18\n",
      "|   |   |   |--- mean concavity <= 0.05\n",
      "|   |   |   |   |--- class: 0\n",
      "|   |   |   |--- mean concavity >  0.05\n",
      "|   |   |   |   |--- class: 1\n",
      "|   |   |--- worst concavity >  0.18\n",
      "|   |   |   |--- class: 0\n",
      "\n"
     ]
    }
   ],
   "source": [
    "# Decision Tree Classifier - Breast Cancer\n",
    "from sklearn import tree\n",
    "from sklearn import metrics\n",
    "from sklearn.tree import DecisionTreeClassifier, export_text\n",
    "\n",
    "clf = tree.DecisionTreeClassifier()\n",
    "clf = clf.fit(x1_train, y1_train)\n",
    "y_pred_1 = clf.predict(x1_test)\n",
    "\n",
    "acc_dt_1 =metrics.accuracy_score(y1_test, y_pred_1)\n",
    "f1_dt_1 = metrics.f1_score(y1_test, y_pred_1)\n",
    "\n",
    "print(\"Accuracy:\",acc_dt_1)\n",
    "print(\"F1:\",f1_dt_1)\n",
    "\n",
    "#show graph\n",
    "r = export_text(clf, feature_names=x1.columns.values.tolist())\n",
    "print(r)"
   ]
  },
  {
   "cell_type": "markdown",
   "id": "6962d48e",
   "metadata": {},
   "source": [
    "## Play Tennis"
   ]
  },
  {
   "cell_type": "code",
   "execution_count": 162,
   "id": "c14488a3",
   "metadata": {},
   "outputs": [
    {
     "name": "stdout",
     "output_type": "stream",
     "text": [
      "Accuracy: 0.6666666666666666\n",
      "F1: 0.8\n",
      "|--- humidity <= 0.50\n",
      "|   |--- outlook <= 1.50\n",
      "|   |   |--- wind <= 0.50\n",
      "|   |   |   |--- outlook <= 0.50\n",
      "|   |   |   |   |--- class: 1\n",
      "|   |   |   |--- outlook >  0.50\n",
      "|   |   |   |   |--- class: 0\n",
      "|   |   |--- wind >  0.50\n",
      "|   |   |   |--- class: 1\n",
      "|   |--- outlook >  1.50\n",
      "|   |   |--- class: 0\n",
      "|--- humidity >  0.50\n",
      "|   |--- class: 1\n",
      "\n"
     ]
    }
   ],
   "source": [
    "#Decision Tree Classifier - Play Tennis\n",
    "\n",
    "clf = tree.DecisionTreeClassifier()\n",
    "clf = clf.fit(x2_train, y2_train)\n",
    "y_pred_2 = clf.predict(x2_test)\n",
    "\n",
    "acc_dt_2 =metrics.accuracy_score(y2_test, y_pred_2)\n",
    "f1_dt_2 = metrics.f1_score(y2_test, y_pred_2)\n",
    "\n",
    "print(\"Accuracy:\",acc_dt_2)\n",
    "print(\"F1:\",f1_dt_2)\n",
    "\n",
    "#show graph\n",
    "r = export_text(clf, feature_names=x2.columns.values.tolist())\n",
    "print(r)"
   ]
  },
  {
   "cell_type": "markdown",
   "id": "b5aa53d4",
   "metadata": {},
   "source": [
    "# ID3 Decision Tree"
   ]
  },
  {
   "cell_type": "markdown",
   "id": "94bd7c40",
   "metadata": {},
   "source": [
    "## Breast Cancer"
   ]
  },
  {
   "cell_type": "code",
   "execution_count": 163,
   "id": "e09c345e",
   "metadata": {},
   "outputs": [
    {
     "name": "stdout",
     "output_type": "stream",
     "text": [
      "Accuracy: 0.6666666666666666\n",
      "F1: 0.8\n",
      "\n",
      "worst perimeter <=116.05\n",
      "|   worst concave points <=0.11\n",
      "|   |   mean radius <=14.98\n",
      "|   |   |   radius error <=0.63: 1 (245) \n",
      "|   |   |   radius error >0.63\n",
      "|   |   |   |   mean texture <=18.93: 0 (1) \n",
      "|   |   |   |   mean texture >18.93: 1 (1) \n",
      "|   |   mean radius >14.98\n",
      "|   |   |   mean texture <=16.30: 1 (2) \n",
      "|   |   |   mean texture >16.30: 0 (3) \n",
      "|   worst concave points >0.11\n",
      "|   |   worst texture <=25.74\n",
      "|   |   |   worst radius <=15.45: 1 (18) \n",
      "|   |   |   worst radius >15.45\n",
      "|   |   |   |   mean radius <=14.20: 0 (3) \n",
      "|   |   |   |   mean radius >14.20: 1 (8) \n",
      "|   |   worst texture >25.74\n",
      "|   |   |   mean concave points <=0.05\n",
      "|   |   |   |   compactness error <=0.02\n",
      "|   |   |   |   |   mean area <=562.00: 1 (1) \n",
      "|   |   |   |   |   mean area >562.00: 0 (4) \n",
      "|   |   |   |   compactness error >0.02: 1 (10) \n",
      "|   |   |   mean concave points >0.05\n",
      "|   |   |   |   perimeter error <=1.62\n",
      "|   |   |   |   |   mean radius <=13.34: 0 (1) \n",
      "|   |   |   |   |   mean radius >13.34: 1 (1) \n",
      "|   |   |   |   perimeter error >1.62: 0 (22) \n",
      "worst perimeter >116.05\n",
      "|   worst concavity <=0.18\n",
      "|   |   mean texture <=20.67: 1 (2) \n",
      "|   |   mean texture >20.67: 0 (2) \n",
      "|   worst concavity >0.18: 0 (131) \n",
      "\n"
     ]
    }
   ],
   "source": [
    "# ID3 Decision tree  - Breast Cancer\n",
    "from id3 import Id3Estimator, export_text\n",
    "\n",
    "clf = Id3Estimator()\n",
    "clf.fit(x1_train, y1_train, check_input=True)\n",
    "y_pred_1 = clf.predict(x1_test)\n",
    "\n",
    "acc_id3_1 =metrics.accuracy_score(y2_test, y_pred_2)\n",
    "f1_id3_1 = metrics.f1_score(y2_test, y_pred_2)\n",
    "\n",
    "print(\"Accuracy:\",acc_id3_1)\n",
    "print(\"F1:\",f1_id3_1)\n",
    "\n",
    "#show graph\n",
    "\n",
    "print(export_text(clf.tree_, x1.columns.values.tolist()))"
   ]
  },
  {
   "cell_type": "markdown",
   "id": "eeb6bff7",
   "metadata": {},
   "source": [
    "## Play Tennis"
   ]
  },
  {
   "cell_type": "code",
   "execution_count": 164,
   "id": "b1b59c46",
   "metadata": {},
   "outputs": [
    {
     "name": "stdout",
     "output_type": "stream",
     "text": [
      "Accuracy: 0.6666666666666666\n",
      "F1: 0.8\n",
      "\n",
      "humidity <=0.50\n",
      "|   outlook <=1.50\n",
      "|   |   wind <=0.50: 0 (1/1) \n",
      "|   |   wind >0.50: 1 (2) \n",
      "|   outlook >1.50: 0 (3) \n",
      "humidity >0.50: 1 (4) \n",
      "\n"
     ]
    }
   ],
   "source": [
    "# ID3 Decision tree Estimator - Play Tennis\n",
    "from id3 import Id3Estimator\n",
    "\n",
    "clf = Id3Estimator()\n",
    "clf.fit(x2_train, y2_train, check_input=True)\n",
    "y_pred_2 = clf.predict(x2_test)\n",
    "\n",
    "acc_id3_2 =metrics.accuracy_score(y2_test, y_pred_2)\n",
    "f1_id3_2 = metrics.f1_score(y2_test, y_pred_2)\n",
    "\n",
    "print(\"Accuracy:\",acc_id3_2)\n",
    "print(\"F1:\",f1_id3_2)\n",
    "\n",
    "#show graph\n",
    "\n",
    "print(export_text(clf.tree_, x2.columns.values.tolist()))"
   ]
  },
  {
   "cell_type": "markdown",
   "id": "8daa0538",
   "metadata": {},
   "source": [
    "# Network Algorithm"
   ]
  },
  {
   "cell_type": "markdown",
   "id": "7cd7e52c",
   "metadata": {},
   "source": [
    "## Breast Cancer"
   ]
  },
  {
   "cell_type": "code",
   "execution_count": 165,
   "id": "b4e61310",
   "metadata": {},
   "outputs": [
    {
     "name": "stdout",
     "output_type": "stream",
     "text": [
      "Accuracy: 0.9385964912280702\n",
      "F1: 0.9496402877697843\n"
     ]
    }
   ],
   "source": [
    "#Network Algorithm - Breast Cancer\n",
    "import numpy as np\n",
    "import pandas as pd\n",
    "import matplotlib.pyplot as plt\n",
    "from sklearn.neural_network import MLPClassifier\n",
    "from sklearn.datasets import make_classification\n",
    "from sklearn.model_selection import train_test_split\n",
    "\n",
    "\n",
    "clf = MLPClassifier(random_state=1,max_iter=1000).fit(x1_train,y1_train)\n",
    "clf.predict_proba(x1_train)\n",
    "npredict = clf.predict(x1_test)\n",
    "\n",
    "acc_na_1 =metrics.accuracy_score(y1_test, npredict)\n",
    "f1_na_1 = metrics.f1_score(y1_test, npredict)\n",
    "\n",
    "print(\"Accuracy:\",acc_na_1)\n",
    "print(\"F1:\",f1_na_1)\n",
    "\n"
   ]
  },
  {
   "cell_type": "markdown",
   "id": "33557298",
   "metadata": {},
   "source": [
    "# Play Tennis"
   ]
  },
  {
   "cell_type": "code",
   "execution_count": 166,
   "id": "c0d2a30f",
   "metadata": {},
   "outputs": [
    {
     "name": "stdout",
     "output_type": "stream",
     "text": [
      "Accuracy: 0.6666666666666666\n",
      "F1: 0.8\n"
     ]
    }
   ],
   "source": [
    "#Network Algorithm - Play Tennis\n",
    "\n",
    "clf = MLPClassifier(random_state=1,max_iter=1000).fit(x2_train,y2_train)\n",
    "clf.predict_proba(x2_train)\n",
    "npredict = clf.predict(x2_test)\n",
    "\n",
    "acc_na_2 =metrics.accuracy_score(y2_test, npredict)\n",
    "f1_na_2 = metrics.f1_score(y2_test, npredict)\n",
    "\n",
    "print(\"Accuracy:\",acc_na_2)\n",
    "print(\"F1:\",f1_na_2)\n"
   ]
  },
  {
   "cell_type": "markdown",
   "id": "531a9f47",
   "metadata": {},
   "source": [
    "# Logistixc Regression"
   ]
  },
  {
   "cell_type": "markdown",
   "id": "bc44da3e",
   "metadata": {},
   "source": [
    "## Breast Cancer"
   ]
  },
  {
   "cell_type": "code",
   "execution_count": 167,
   "id": "e511155b",
   "metadata": {},
   "outputs": [
    {
     "name": "stdout",
     "output_type": "stream",
     "text": [
      "Accuracy: 0.956140350877193\n",
      "F1: 0.9645390070921985\n"
     ]
    }
   ],
   "source": [
    "# Logistixc Regression Breast Cancer\n",
    "from sklearn.linear_model import LogisticRegression\n",
    "\n",
    "clf = LogisticRegression(random_state=0, solver='lbfgs', max_iter=10000).fit(x1_train, y1_train)\n",
    "y_pred_1 = clf.predict(x1_test)\n",
    "\n",
    "acc_lr_1 =metrics.accuracy_score(y1_test, y_pred_1)\n",
    "f1_lr_1 = metrics.f1_score(y1_test, y_pred_1)\n",
    "\n",
    "print(\"Accuracy:\",acc_lr_1)\n",
    "print(\"F1:\",f1_lr_1)"
   ]
  },
  {
   "cell_type": "markdown",
   "id": "419fe973",
   "metadata": {},
   "source": [
    "## Play Tennis"
   ]
  },
  {
   "cell_type": "code",
   "execution_count": 168,
   "id": "c88f7fe5",
   "metadata": {},
   "outputs": [
    {
     "name": "stdout",
     "output_type": "stream",
     "text": [
      "Accuracy: 0.6666666666666666\n",
      "F1: 0.8\n"
     ]
    }
   ],
   "source": [
    "# Logistixc Regression Play Tennis\n",
    "\n",
    "clf = LogisticRegression(random_state=0, solver='lbfgs', max_iter=3000).fit(x2_train, y2_train)\n",
    "y_pred_2 = clf.predict(x2_test)\n",
    "\n",
    "acc_lr_2 =metrics.accuracy_score(y2_test, y_pred_2)\n",
    "f1_lr_2 = metrics.f1_score(y2_test, y_pred_2)\n",
    "\n",
    "print(\"Accuracy:\",acc_lr_2)\n",
    "print(\"F1:\",f1_lr_2)\n"
   ]
  },
  {
   "cell_type": "markdown",
   "id": "02069933",
   "metadata": {},
   "source": [
    "# K Means"
   ]
  },
  {
   "cell_type": "markdown",
   "id": "3ca9e405",
   "metadata": {},
   "source": [
    "## Breast Cancer"
   ]
  },
  {
   "cell_type": "code",
   "execution_count": 175,
   "id": "9da0a08d",
   "metadata": {},
   "outputs": [
    {
     "name": "stdout",
     "output_type": "stream",
     "text": [
      "Accuracy: 0.868421052631579\n",
      "F1: 0.9019607843137255\n"
     ]
    }
   ],
   "source": [
    "#K Means - Breast Cancer\n",
    "import numpy as np\n",
    "import pandas as pd\n",
    "import matplotlib.pyplot as plt\n",
    "from sklearn.cluster import KMeans\n",
    "\n",
    "kmeans = KMeans(2)\n",
    "kmeans.fit_predict(x1_train,y1_train)\n",
    "kpredict = kmeans.predict(x1_test)\n",
    "\n",
    "acc_km_1 = metrics.accuracy_score(y1_test, kpredict)\n",
    "f1_km_1 = metrics.f1_score(y1_test, kpredict)\n",
    "\n",
    "print(\"Accuracy:\",acc_km_1)\n",
    "print(\"F1:\",f1_km_1)\n",
    "\n",
    "\n"
   ]
  },
  {
   "cell_type": "markdown",
   "id": "067bd047",
   "metadata": {},
   "source": [
    "## Play Tennis"
   ]
  },
  {
   "cell_type": "code",
   "execution_count": 176,
   "id": "5cab433e",
   "metadata": {},
   "outputs": [
    {
     "name": "stdout",
     "output_type": "stream",
     "text": [
      "Accuracy: 0.3333333333333333\n",
      "F1: 0.5\n"
     ]
    }
   ],
   "source": [
    "#K Means - Play Tennis\n",
    "\n",
    "kmeans = KMeans(2)\n",
    "kmeans.fit_predict(x2_train,y2_train)\n",
    "kpredict = kmeans.predict(x2_test)\n",
    "\n",
    "acc_km_2 =metrics.accuracy_score(y2_test, kpredict)\n",
    "f1_km_2 = metrics.f1_score(y2_test, kpredict)\n",
    "\n",
    "print(\"Accuracy:\",acc_km_2)\n",
    "print(\"F1:\",f1_km_2)\n",
    "\n"
   ]
  },
  {
   "cell_type": "markdown",
   "id": "3d1361e0",
   "metadata": {},
   "source": [
    "# SVC"
   ]
  },
  {
   "cell_type": "markdown",
   "id": "dfa1481b",
   "metadata": {},
   "source": [
    "## Breast Cancer"
   ]
  },
  {
   "cell_type": "code",
   "execution_count": 177,
   "id": "0598a955",
   "metadata": {},
   "outputs": [
    {
     "name": "stdout",
     "output_type": "stream",
     "text": [
      "Accuracy: 0.9736842105263158\n",
      "F1: 0.9781021897810219\n"
     ]
    }
   ],
   "source": [
    "#SVC - Breast Cancer\n",
    "import numpy as np\n",
    "import pandas as pd\n",
    "import matplotlib.pyplot as plt\n",
    "from sklearn.svm import SVC\n",
    "from sklearn.preprocessing import StandardScaler\n",
    "from sklearn.pipeline import make_pipeline\n",
    "\n",
    "clf = make_pipeline(StandardScaler(), SVC(gamma='auto'))\n",
    "clf.fit(x1_train,y1_train)\n",
    "spredict = clf.predict(x1_test)\n",
    "\n",
    "acc_svc_1 =metrics.accuracy_score(y1_test, spredict)\n",
    "f1_svc_1 = metrics.f1_score(y1_test, spredict)\n",
    "\n",
    "print(\"Accuracy:\",acc_svc_1)\n",
    "print(\"F1:\",f1_svc_1)\n"
   ]
  },
  {
   "cell_type": "markdown",
   "id": "29af7bce",
   "metadata": {},
   "source": [
    "## Play Tennis"
   ]
  },
  {
   "cell_type": "code",
   "execution_count": 178,
   "id": "f824dfd0",
   "metadata": {},
   "outputs": [
    {
     "name": "stdout",
     "output_type": "stream",
     "text": [
      "Accuracy: 0.6666666666666666\n",
      "F1: 0.8\n"
     ]
    }
   ],
   "source": [
    "#SVC - Play Tennis\n",
    "clf = make_pipeline(StandardScaler(), SVC(gamma='auto'))\n",
    "clf.fit(x2_train,y2_train)\n",
    "spredict = clf.predict(x2_test)\n",
    "\n",
    "acc_svc_2 =metrics.accuracy_score(y2_test, spredict)\n",
    "f1_svc_2 = metrics.f1_score(y2_test, spredict)\n",
    "\n",
    "print(\"Accuracy:\",acc_svc_2)\n",
    "print(\"F1:\",f1_svc_2)\n"
   ]
  },
  {
   "cell_type": "markdown",
   "id": "5324b4db",
   "metadata": {},
   "source": [
    "# Analysis & Comparison"
   ]
  },
  {
   "cell_type": "markdown",
   "id": "1cc73b65",
   "metadata": {},
   "source": [
    "## Breast Cancer "
   ]
  },
  {
   "cell_type": "code",
   "execution_count": 179,
   "id": "1730ace7",
   "metadata": {},
   "outputs": [
    {
     "data": {
      "text/html": [
       "<div>\n",
       "<style scoped>\n",
       "    .dataframe tbody tr th:only-of-type {\n",
       "        vertical-align: middle;\n",
       "    }\n",
       "\n",
       "    .dataframe tbody tr th {\n",
       "        vertical-align: top;\n",
       "    }\n",
       "\n",
       "    .dataframe thead th {\n",
       "        text-align: right;\n",
       "    }\n",
       "</style>\n",
       "<table border=\"1\" class=\"dataframe\">\n",
       "  <thead>\n",
       "    <tr style=\"text-align: right;\">\n",
       "      <th></th>\n",
       "      <th>Accuracy</th>\n",
       "      <th>F1</th>\n",
       "    </tr>\n",
       "  </thead>\n",
       "  <tbody>\n",
       "    <tr>\n",
       "      <th>DecisionTreeClassifier</th>\n",
       "      <td>0.921053</td>\n",
       "      <td>0.932331</td>\n",
       "    </tr>\n",
       "    <tr>\n",
       "      <th>Id3Estimator</th>\n",
       "      <td>0.666667</td>\n",
       "      <td>0.800000</td>\n",
       "    </tr>\n",
       "    <tr>\n",
       "      <th>K Means</th>\n",
       "      <td>0.868421</td>\n",
       "      <td>0.901961</td>\n",
       "    </tr>\n",
       "    <tr>\n",
       "      <th>Logistic Regression</th>\n",
       "      <td>0.956140</td>\n",
       "      <td>0.964539</td>\n",
       "    </tr>\n",
       "    <tr>\n",
       "      <th>Neural_network</th>\n",
       "      <td>0.938596</td>\n",
       "      <td>0.949640</td>\n",
       "    </tr>\n",
       "    <tr>\n",
       "      <th>SVM</th>\n",
       "      <td>0.973684</td>\n",
       "      <td>0.978102</td>\n",
       "    </tr>\n",
       "  </tbody>\n",
       "</table>\n",
       "</div>"
      ],
      "text/plain": [
       "                        Accuracy        F1\n",
       "DecisionTreeClassifier  0.921053  0.932331\n",
       "Id3Estimator            0.666667  0.800000\n",
       "K Means                 0.868421  0.901961\n",
       "Logistic Regression     0.956140  0.964539\n",
       "Neural_network          0.938596  0.949640\n",
       "SVM                     0.973684  0.978102"
      ]
     },
     "execution_count": 179,
     "metadata": {},
     "output_type": "execute_result"
    }
   ],
   "source": [
    "algo = ['DecisionTreeClassifier', 'Id3Estimator', 'K Means', 'Logistic Regression', 'Neural_network', 'SVM']\n",
    "acc = [acc_dt_1, acc_id3_1, acc_km_1, acc_lr_1, acc_na_1, acc_svc_1]\n",
    "f1 = [f1_dt_1, f1_id3_1, f1_km_1, f1_lr_1, f1_na_1, f1_svc_1]\n",
    "comparison = {'Accuracy': acc, 'F1': f1}\n",
    "\n",
    "comparison_tab = pd.DataFrame(data=comparison, index=algo)\n",
    "comparison_tab"
   ]
  },
  {
   "cell_type": "markdown",
   "id": "be380e91",
   "metadata": {},
   "source": [
    "## PlayTennis"
   ]
  },
  {
   "cell_type": "code",
   "execution_count": 180,
   "id": "b6b67c77",
   "metadata": {},
   "outputs": [
    {
     "data": {
      "text/html": [
       "<div>\n",
       "<style scoped>\n",
       "    .dataframe tbody tr th:only-of-type {\n",
       "        vertical-align: middle;\n",
       "    }\n",
       "\n",
       "    .dataframe tbody tr th {\n",
       "        vertical-align: top;\n",
       "    }\n",
       "\n",
       "    .dataframe thead th {\n",
       "        text-align: right;\n",
       "    }\n",
       "</style>\n",
       "<table border=\"1\" class=\"dataframe\">\n",
       "  <thead>\n",
       "    <tr style=\"text-align: right;\">\n",
       "      <th></th>\n",
       "      <th>Accuracy</th>\n",
       "      <th>F1</th>\n",
       "    </tr>\n",
       "  </thead>\n",
       "  <tbody>\n",
       "    <tr>\n",
       "      <th>DecisionTreeClassifier</th>\n",
       "      <td>0.666667</td>\n",
       "      <td>0.8</td>\n",
       "    </tr>\n",
       "    <tr>\n",
       "      <th>Id3Estimator</th>\n",
       "      <td>0.666667</td>\n",
       "      <td>0.8</td>\n",
       "    </tr>\n",
       "    <tr>\n",
       "      <th>K Means</th>\n",
       "      <td>0.333333</td>\n",
       "      <td>0.5</td>\n",
       "    </tr>\n",
       "    <tr>\n",
       "      <th>Logistic Regression</th>\n",
       "      <td>0.666667</td>\n",
       "      <td>0.8</td>\n",
       "    </tr>\n",
       "    <tr>\n",
       "      <th>Neural_network</th>\n",
       "      <td>0.666667</td>\n",
       "      <td>0.8</td>\n",
       "    </tr>\n",
       "    <tr>\n",
       "      <th>SVM</th>\n",
       "      <td>0.666667</td>\n",
       "      <td>0.8</td>\n",
       "    </tr>\n",
       "  </tbody>\n",
       "</table>\n",
       "</div>"
      ],
      "text/plain": [
       "                        Accuracy   F1\n",
       "DecisionTreeClassifier  0.666667  0.8\n",
       "Id3Estimator            0.666667  0.8\n",
       "K Means                 0.333333  0.5\n",
       "Logistic Regression     0.666667  0.8\n",
       "Neural_network          0.666667  0.8\n",
       "SVM                     0.666667  0.8"
      ]
     },
     "execution_count": 180,
     "metadata": {},
     "output_type": "execute_result"
    }
   ],
   "source": [
    "algo = ['DecisionTreeClassifier', 'Id3Estimator', 'K Means', 'Logistic Regression', 'Neural_network', 'SVM']\n",
    "acc = [acc_dt_2, acc_id3_2, acc_km_2, acc_lr_2, acc_na_2, acc_svc_2]\n",
    "f1 = [f1_dt_2, f1_id3_2, f1_km_2, f1_lr_2, f1_na_2, f1_svc_2]\n",
    "comparison = {'Accuracy': acc, 'F1': f1}\n",
    "\n",
    "comparison_tab = pd.DataFrame(data=comparison, index=algo)\n",
    "comparison_tab"
   ]
  }
 ],
 "metadata": {
  "kernelspec": {
   "display_name": "Python 3 (ipykernel)",
   "language": "python",
   "name": "python3"
  },
  "language_info": {
   "codemirror_mode": {
    "name": "ipython",
    "version": 3
   },
   "file_extension": ".py",
   "mimetype": "text/x-python",
   "name": "python",
   "nbconvert_exporter": "python",
   "pygments_lexer": "ipython3",
   "version": "3.10.0"
  }
 },
 "nbformat": 4,
 "nbformat_minor": 5
}
